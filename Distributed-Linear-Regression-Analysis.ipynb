{
 "cells": [
  {
   "cell_type": "markdown",
   "id": "77be8b30-9e5b-47aa-962b-baaf60d5f37a",
   "metadata": {},
   "source": [
    "# SHINA SAMUEL KOLAWOLE - Distributed-Linear-Regression-Analysis with housing data."
   ]
  },
  {
   "cell_type": "markdown",
   "id": "f9f4805d-e489-419a-b9b5-707d232060ca",
   "metadata": {},
   "source": [
    "The housing dataset is used to develop a pipeline for running a simple linear regression in a pseudo-distributed manner (single node setup) using Spark ML. The following was implemented: • Created a Spark session, loaded the data, parse and display them using the apache spark ecosystem (pyspark). • Created a feature vector separating the features from the labels, i.e. the column you need to predict. • Split the dataset into 70% train and 30% test set. • Train a linear regression model. • Evaluated its performance on the train and test sets, reported the mean absolute error (MAE), the root mean squared error (RMSE) and mean squared error (MSE). • The test set is used to generate a table showing the predicted vs actual values as well as a predicted vs actual plot.\r\n",
    "\r\n"
   ]
  },
  {
   "cell_type": "markdown",
   "id": "1ec1d632-8304-402f-ba47-defa7b80cae6",
   "metadata": {},
   "source": [
    "In this code, I first created a SparkSession using the SparkSession.builder API. This allows us to connect to a Spark cluster and use its resources to process data. The schema specifies the data types and column names for each of the columns in the dataset. Loaded the dataset as a Spark DataFrame using the spark.read.csv method. This method takes the path to the CSV file, a flag indicating whether the file has a header row, and the schema defined earlier. This method returns a DataFrame object that is useed to manipulate and analyze the data.Finally, display the first five rows of the DataFrame using the df.show(20) method.This method prints the DataFrame to the console, allowing us to verify that the data was loaded correctly.\n"
   ]
  },
  {
   "cell_type": "code",
   "execution_count": 3,
   "id": "6d8308cf-2d20-4e3a-9dd3-080ec38932f2",
   "metadata": {},
   "outputs": [],
   "source": [
    "#Import necessary libraries\n",
    "\n",
    "spark = SparkSession.builder.appName(\"HousingData\").getOrCreate()\n",
    "\n",
    "from pyspark.sql import SparkSession\n",
    "from pyspark.ml.feature import VectorAssembler\n",
    "from pyspark.ml.regression import LinearRegression\n",
    "from pyspark.ml.evaluation import RegressionEvaluator\n",
    "from pyspark.sql.functions import col\n",
    "import pandas as pd\n",
    "import matplotlib.pyplot as plt\n",
    "from pyspark.sql.functions import isnan, when, count"
   ]
  },
  {
   "cell_type": "code",
   "execution_count": 16,
   "id": "f5029f81-a5af-4d6c-a577-e4a932310d29",
   "metadata": {},
   "outputs": [
    {
     "name": "stdout",
     "output_type": "stream",
     "text": [
      "+------------------+-----------+--------------+----------+----------+-------------+---------------+------------------+\n",
      "|housing_median_age|total_rooms|total_bedrooms|population|households|median_income|ocean_proximity|median_house_value|\n",
      "+------------------+-----------+--------------+----------+----------+-------------+---------------+------------------+\n",
      "|                41|        880|           129|       322|       126|       8.3252|       NEAR BAY|            452600|\n",
      "|                21|       7099|          1106|      2401|      1138|       8.3014|       NEAR BAY|            358500|\n",
      "|                52|       1467|           190|       496|       177|       7.2574|       NEAR BAY|            352100|\n",
      "|                52|       1274|           235|       558|       219|       5.6431|       NEAR BAY|            341300|\n",
      "|                52|       1627|           280|       565|       259|       3.8462|       NEAR BAY|            342200|\n",
      "|                52|        919|           213|       413|       193|       4.0368|       NEAR BAY|            269700|\n",
      "|                52|       2535|           489|      1094|       514|       3.6591|       NEAR BAY|            299200|\n",
      "|                52|       3104|           687|      1157|       647|         3.12|       NEAR BAY|            241400|\n",
      "|                42|       2555|           665|      1206|       595|       2.0804|       NEAR BAY|            226700|\n",
      "|                52|       3549|           707|      1551|       714|       3.6912|       NEAR BAY|            261100|\n",
      "|                52|       2202|           434|       910|       402|       3.2031|       NEAR BAY|            281500|\n",
      "|                52|       3503|           752|      1504|       734|       3.2705|       NEAR BAY|            241800|\n",
      "|                52|       2491|           474|      1098|       468|        3.075|       NEAR BAY|            213500|\n",
      "|                52|        696|           191|       345|       174|       2.6736|       NEAR BAY|            191300|\n",
      "|                52|       2643|           626|      1212|       620|       1.9167|       NEAR BAY|            159200|\n",
      "|                50|       1120|           283|       697|       264|        2.125|       NEAR BAY|            140000|\n",
      "|                52|       1966|           347|       793|       331|        2.775|       NEAR BAY|            152500|\n",
      "|                52|       1228|           293|       648|       303|       2.1202|       NEAR BAY|            155500|\n",
      "|                50|       2239|           455|       990|       419|       1.9911|       NEAR BAY|            158700|\n",
      "|                52|       1503|           298|       690|       275|       2.6033|       NEAR BAY|            162900|\n",
      "+------------------+-----------+--------------+----------+----------+-------------+---------------+------------------+\n",
      "only showing top 20 rows\n",
      "\n"
     ]
    }
   ],
   "source": [
    "df= spark.read.csv(\"C:/Users/samue/OneDrive/Desktop/housing.csv\", header=True, inferSchema=True)\n",
    "df.show(20) "
   ]
  },
  {
   "cell_type": "markdown",
   "id": "f5c50688-9acf-4425-b23d-a2e6c912168f",
   "metadata": {},
   "source": [
    "The schema is used to specify the data types and the names of the columns in the dataset, which is an important consideration. That the data types are consistent and that each column is appropriately recognised is crucial for a successful data load and processing. Spark can make better use of the data by using the established data types to improve the processing of the data when a schema is used.\n"
   ]
  },
  {
   "cell_type": "code",
   "execution_count": 18,
   "id": "1212ec6a-ee49-4305-97d4-4432c29d79be",
   "metadata": {},
   "outputs": [
    {
     "name": "stdout",
     "output_type": "stream",
     "text": [
      "root\n",
      " |-- housing_median_age: integer (nullable = true)\n",
      " |-- total_rooms: integer (nullable = true)\n",
      " |-- total_bedrooms: integer (nullable = true)\n",
      " |-- population: integer (nullable = true)\n",
      " |-- households: integer (nullable = true)\n",
      " |-- median_income: double (nullable = true)\n",
      " |-- ocean_proximity: string (nullable = true)\n",
      " |-- median_house_value: integer (nullable = true)\n",
      "\n"
     ]
    }
   ],
   "source": [
    "df.printSchema()"
   ]
  },
  {
   "cell_type": "markdown",
   "id": "1eca3280-377f-46cf-9119-0dfa230cd899",
   "metadata": {},
   "source": [
    "# Check for missing values in the dataset"
   ]
  },
  {
   "cell_type": "markdown",
   "id": "2451a2af-0b1c-4f9a-b041-01f86c327e34",
   "metadata": {},
   "source": [
    "The code below checks for missing DataFrame values using isnan, when, count, and col. This produces a DataFrame with the same column names as the original, but each row includes the count of missing data for that column. This DataFrame is converted to a Pandas DataFrame using toPandas and printed to the terminal. Next, I drop missing rows using na.drop. This function produces a DataFrame with the same structure but without missing values. After cleaning the data, I showed each column's missing value count again. This shows which columns had missing values before cleaning and confirms that all missing values were deleted after cleaning.This shows which columns had missing values before cleaning and confirms that all missing values were deleted after cleaning.\n"
   ]
  },
  {
   "cell_type": "code",
   "execution_count": 19,
   "id": "6ab8655e-158f-43ea-a012-8788605bae27",
   "metadata": {},
   "outputs": [
    {
     "name": "stdout",
     "output_type": "stream",
     "text": [
      "Missing Values Count:\n",
      "   housing_median_age  total_rooms  total_bedrooms  population  households  \\\n",
      "0                   0            0             207           0           0   \n",
      "\n",
      "   median_income  ocean_proximity  median_house_value  \n",
      "0              0                0                   0  \n"
     ]
    }
   ],
   "source": [
    "missing_values_count = df.select([count(when(isnan(c) | col(c).isNull(), c)).alias(c) for c in df.columns]).toPandas()\n",
    "print(\"Missing Values Count:\")\n",
    "print(missing_values_count)"
   ]
  },
  {
   "cell_type": "markdown",
   "id": "c27bf549-b02e-4f26-9bfc-d7116ea23bd5",
   "metadata": {},
   "source": [
    "# Drop any rows with missing values\n"
   ]
  },
  {
   "cell_type": "markdown",
   "id": "d6775912-19e3-41a2-a2ba-1833e2a10283",
   "metadata": {},
   "source": [
    "Rows containing null values is dropped using the na.drop function. This procedure is set to remove rows according to a variety of criteria, including the presence or absence of certain columns' values. If too many rows are removed, the machine learning model will be less accurate, thus it's vital to think carefully about which ones to exclude. As such, the rows without its associated data was removed. There were 207 blanks in the total rooms column.\n"
   ]
  },
  {
   "cell_type": "code",
   "execution_count": 20,
   "id": "beeb9b31-9f16-473d-afd2-9c083267ba8a",
   "metadata": {},
   "outputs": [],
   "source": [
    "df_cleaned = df.na.drop()"
   ]
  },
  {
   "cell_type": "markdown",
   "id": "2cc7d698-fd7e-4061-991d-0aa633dcf066",
   "metadata": {},
   "source": [
    "# Display the count of rows before and after cleaning"
   ]
  },
  {
   "cell_type": "code",
   "execution_count": 21,
   "id": "9a5c28e5-ed64-4da5-8aae-48fd98687786",
   "metadata": {},
   "outputs": [
    {
     "name": "stdout",
     "output_type": "stream",
     "text": [
      "Number of Rows Before Cleaning: 20640\n",
      "Number of Rows After Cleaning: 20433\n"
     ]
    }
   ],
   "source": [
    "print(\"Number of Rows Before Cleaning:\", df.count())\n",
    "print(\"Number of Rows After Cleaning:\", df_cleaned.count())"
   ]
  },
  {
   "cell_type": "markdown",
   "id": "49f26d74-f6fe-4b97-8fbc-59e063432ab2",
   "metadata": {},
   "source": [
    "# Display the count of missing values for each column after cleaning\n"
   ]
  },
  {
   "cell_type": "code",
   "execution_count": 22,
   "id": "5dbb86c2-f3c6-4b5b-aae7-38badff9f623",
   "metadata": {},
   "outputs": [
    {
     "name": "stdout",
     "output_type": "stream",
     "text": [
      "Missing Values Count After Cleaning:\n",
      "   housing_median_age  total_rooms  total_bedrooms  population  households  \\\n",
      "0                   0            0               0           0           0   \n",
      "\n",
      "   median_income  ocean_proximity  median_house_value  \n",
      "0              0                0                   0  \n"
     ]
    }
   ],
   "source": [
    "missing_values_count_cleaned = df_cleaned.select([count(when(isnan(c) | col(c).isNull(), c)).alias(c) for c in df.columns]).toPandas()\n",
    "print(\"Missing Values Count After Cleaning:\")\n",
    "print(missing_values_count_cleaned)"
   ]
  },
  {
   "cell_type": "markdown",
   "id": "b85e7a4c-ee0d-48c0-a096-2ef912d8b722",
   "metadata": {},
   "source": [
    "# Check for standard statistics of df_clean"
   ]
  },
  {
   "cell_type": "code",
   "execution_count": 23,
   "id": "6513abd8-6733-4f08-bf09-e58a90061fe9",
   "metadata": {},
   "outputs": [
    {
     "name": "stdout",
     "output_type": "stream",
     "text": [
      "+-------+------------------+------------------+------------------+------------------+------------------+------------------+---------------+------------------+\n",
      "|summary|housing_median_age|       total_rooms|    total_bedrooms|        population|        households|     median_income|ocean_proximity|median_house_value|\n",
      "+-------+------------------+------------------+------------------+------------------+------------------+------------------+---------------+------------------+\n",
      "|  count|             20433|             20433|             20433|             20433|             20433|             20433|          20433|             20433|\n",
      "|   mean|28.633093525179856|2636.5042333480155| 537.8705525375618|1424.9469485635982|499.43346547251997|3.8711616013312273|           null|206864.41315519012|\n",
      "| stddev|12.591805202182835| 2185.269566977601|421.38507007403115|1133.2084897449597| 382.2992258828481| 1.899291249306247|           null|115435.66709858322|\n",
      "|    min|                 1|                 2|                 1|                 3|                 1|            0.4999|      <1H OCEAN|             14999|\n",
      "|    max|                52|             39320|              6445|             35682|              6082|           15.0001|     NEAR OCEAN|            500001|\n",
      "+-------+------------------+------------------+------------------+------------------+------------------+------------------+---------------+------------------+\n",
      "\n"
     ]
    }
   ],
   "source": [
    "df_cleaned.describe().show()"
   ]
  },
  {
   "cell_type": "markdown",
   "id": "898d04d5-8678-40e3-a2e1-61d47cf91972",
   "metadata": {},
   "source": [
    "# I will use df_cleaned in the subsequent\n",
    "# Define the feature columns and the label column"
   ]
  },
  {
   "cell_type": "markdown",
   "id": "b441553d-1354-4d1e-9097-190a9c295775",
   "metadata": {},
   "source": [
    "In this approach, the feature column and label column are first defined. Finally, constructed a VectorAssembler object that combines the columns of features into a single feature vector. Define the input columns as the previously established feature columns, and the output column as 'features'. Then, applied the vector assembler's transform technique on the cleaned dataframe df cleaned and pick just the features and median income column. This produces a new dataframe with the feature vector and label for each row. Finally, the first five rows of df features are shown to verify that the feature vector was produced appropriately.\n"
   ]
  },
  {
   "cell_type": "code",
   "execution_count": 24,
   "id": "d96d8277-ce99-44d2-882c-e411be29568e",
   "metadata": {},
   "outputs": [],
   "source": [
    "feature_cols = ['housing_median_age', 'total_rooms', 'total_bedrooms', 'population', 'households', 'median_house_value']\n",
    "label_col = 'median_income'"
   ]
  },
  {
   "cell_type": "markdown",
   "id": "dc5c3756-c562-481d-842b-4f777bc363a2",
   "metadata": {},
   "source": [
    "# Create a vector assembler that combines the feature columns into a single feature vector"
   ]
  },
  {
   "cell_type": "markdown",
   "id": "7cc2a7d4-1d29-43b4-b557-49eb97f23dd6",
   "metadata": {},
   "source": [
    "The usage of VectorAssembler is to merge the feature columns into a single feature vector. Many machine learning methods rely on the features being in a certain format (such a vector) before they can be properly analysed, therefore this is an essential step. The \"select\" technique, used after the vector assembler has been applied to pull out only the features and median income column, is also crucial. This is required because the vector assembler's output contains both the original feature columns and the new features column, but we only want to retain the features and median income columns in the resultant dataframe."
   ]
  },
  {
   "cell_type": "code",
   "execution_count": 27,
   "id": "e133af06-ab0d-406f-99ce-23a771238134",
   "metadata": {},
   "outputs": [],
   "source": [
    "assembler = VectorAssembler(inputCols=feature_cols, outputCol='features')"
   ]
  },
  {
   "cell_type": "markdown",
   "id": "50fd4ecf-2563-4782-bed9-5aa43dea365a",
   "metadata": {},
   "source": [
    "# Use the vector assembler to transform the cleaned dataframe and create the feature vector"
   ]
  },
  {
   "cell_type": "code",
   "execution_count": 28,
   "id": "9f1f13b1-8a3c-4c41-95d2-499a62850a16",
   "metadata": {},
   "outputs": [],
   "source": [
    "df_features = assembler.transform(df_cleaned).select('features', label_col)"
   ]
  },
  {
   "cell_type": "markdown",
   "id": "3f604eca-d12d-4e25-8c67-4df060e1b0cd",
   "metadata": {},
   "source": [
    "# Display the resulting dataframe"
   ]
  },
  {
   "cell_type": "code",
   "execution_count": 31,
   "id": "cd0f9c52-2860-4fed-9cbe-15b889a2bb11",
   "metadata": {},
   "outputs": [
    {
     "name": "stdout",
     "output_type": "stream",
     "text": [
      "+--------------------+-------------+\n",
      "|            features|median_income|\n",
      "+--------------------+-------------+\n",
      "|[41.0,880.0,129.0...|       8.3252|\n",
      "|[21.0,7099.0,1106...|       8.3014|\n",
      "|[52.0,1467.0,190....|       7.2574|\n",
      "|[52.0,1274.0,235....|       5.6431|\n",
      "|[52.0,1627.0,280....|       3.8462|\n",
      "|[52.0,919.0,213.0...|       4.0368|\n",
      "|[52.0,2535.0,489....|       3.6591|\n",
      "|[52.0,3104.0,687....|         3.12|\n",
      "|[42.0,2555.0,665....|       2.0804|\n",
      "|[52.0,3549.0,707....|       3.6912|\n",
      "|[52.0,2202.0,434....|       3.2031|\n",
      "|[52.0,3503.0,752....|       3.2705|\n",
      "|[52.0,2491.0,474....|        3.075|\n",
      "|[52.0,696.0,191.0...|       2.6736|\n",
      "|[52.0,2643.0,626....|       1.9167|\n",
      "|[50.0,1120.0,283....|        2.125|\n",
      "|[52.0,1966.0,347....|        2.775|\n",
      "|[52.0,1228.0,293....|       2.1202|\n",
      "|[50.0,2239.0,455....|       1.9911|\n",
      "|[52.0,1503.0,298....|       2.6033|\n",
      "+--------------------+-------------+\n",
      "only showing top 20 rows\n",
      "\n"
     ]
    }
   ],
   "source": [
    "df_features.show(20)"
   ]
  },
  {
   "cell_type": "markdown",
   "id": "913c6f2b-062f-4b5a-93a8-43e27427e0d1",
   "metadata": {},
   "source": [
    "# Split the data into training and test sets"
   ]
  },
  {
   "cell_type": "markdown",
   "id": "1a51e28b-95f6-4ed4-ab7e-c0f06dbf1168",
   "metadata": {},
   "source": [
    "The code below shows the approach to splits the data into training and test sets using df features' randomSplit function. RandomSplit takes two arguments: a list of the relative sizes of the two sets (in this example, 70% for the training set and 30% for the test set) and an optional seed value to assure repeatability. The sets become train data and test data. To verify the divide, we print each set's rows.\n",
    "\n",
    "Calling the randomSplit function with a random seed is crucial in this approach. To guarantee repeatability and consistency, we assign a seed value. When training a machine learning model, data must be separated into training and test sets. I intend to analyse the model's performance on new data (the test set) to get a better idea of its generalisation performance. If i utilise the same data for training and testing, i risk overfitting the model and getting unrealistic performance predictions."
   ]
  },
  {
   "cell_type": "code",
   "execution_count": 33,
   "id": "a2687877-9589-4646-9412-77278fcd2d6d",
   "metadata": {},
   "outputs": [],
   "source": [
    "(train_data, test_data) = df_features.randomSplit([0.7, 0.3], seed=42)"
   ]
  },
  {
   "cell_type": "markdown",
   "id": "3bb0b3dc-19dd-40f9-9074-b5cc3809033c",
   "metadata": {},
   "source": [
    "# Print the number of rows in each set"
   ]
  },
  {
   "cell_type": "code",
   "execution_count": 34,
   "id": "8bb7fd6e-f82d-4ced-915b-37080406da55",
   "metadata": {},
   "outputs": [
    {
     "name": "stdout",
     "output_type": "stream",
     "text": [
      "Number of rows in training set: 14358\n",
      "Number of rows in test set: 6075\n"
     ]
    }
   ],
   "source": [
    "print(\"Number of rows in training set: {}\".format(train_data.count()))\n",
    "print(\"Number of rows in test set: {}\".format(test_data.count()))"
   ]
  },
  {
   "cell_type": "markdown",
   "id": "c97dda70-93d2-4550-abc2-074206fdb904",
   "metadata": {},
   "source": [
    "# Create a LinearRegression object"
   ]
  },
  {
   "cell_type": "markdown",
   "id": "e8db6cf2-8c7a-44dc-a35c-5bc91f23a799",
   "metadata": {},
   "source": [
    "This code below creates a pyspark.ml.regression LinearRegression object. The model uses featuresCol and labelCol parameters to choose columns for features and labels. Using the LinearRegression object's fit method, i fit the model to the training data and assign it to lr model. Lastly, i output the trained model's coefficients and intercept from the lr model object. The bias term and learning weights for each feature are these values.\n"
   ]
  },
  {
   "cell_type": "code",
   "execution_count": 35,
   "id": "bddeedcd-1a40-4954-9ebb-f7eb15b802dc",
   "metadata": {},
   "outputs": [],
   "source": [
    "lr = LinearRegression(featuresCol='features', labelCol='median_income')"
   ]
  },
  {
   "cell_type": "markdown",
   "id": "92a66ed4-86b2-4a92-8a63-1d636e55fa8c",
   "metadata": {},
   "source": [
    "# Fit the model to the training data"
   ]
  },
  {
   "cell_type": "code",
   "execution_count": 36,
   "id": "3d161aa2-7a7f-4d69-bf2d-319ab41a3c27",
   "metadata": {},
   "outputs": [],
   "source": [
    "lr_model = lr.fit(train_data)"
   ]
  },
  {
   "cell_type": "markdown",
   "id": "4b5be4df-632d-41e3-af3a-5b429460c041",
   "metadata": {},
   "source": [
    "# Print the model coefficients"
   ]
  },
  {
   "cell_type": "code",
   "execution_count": 37,
   "id": "173075d4-4a1b-4dff-bc7c-f1eaa86a8549",
   "metadata": {},
   "outputs": [
    {
     "name": "stdout",
     "output_type": "stream",
     "text": [
      "Model coefficients: [-0.022292971136705437,0.0009098796458029476,-0.0052244230500916875,7.629860908849765e-05,0.0002817090412391746,1.0201466799620867e-05]\n",
      "Intercept: 2.5611795371492256\n"
     ]
    }
   ],
   "source": [
    "print(\"Model coefficients: {}\".format(lr_model.coefficients))\n",
    "print(\"Intercept: {}\".format(lr_model.intercept))"
   ]
  },
  {
   "cell_type": "markdown",
   "id": "19c3cf8c-eee7-4a3b-b341-a7d5763b12eb",
   "metadata": {},
   "source": [
    "# Make predictions on train and test data\n"
   ]
  },
  {
   "cell_type": "markdown",
   "id": "a1b36a1a-b616-43ff-b759-35de724fc6d0",
   "metadata": {},
   "source": [
    "The transform method of the lr model object is used to predict on the training and test datasets using the learned linear regression model. I next assess the model on both the training and test datasets using the RegressionEvaluator class from the pyspark.ml.evaluation package. The predictionCol, labelCol, and metricName parameters instruct the evaluator which columns to use for predictions, labels, and evaluation metric. RMSE, MSE, and MAE are calculated for both training and test datasets and assigned to variables. Printing assessment metrics concludes.\n",
    "\n",
    "Before releasing a machine learning model to the test set, it must be validated on a validation set. This ensures that the model does not overfit to training data and can generalise effectively to unknown data. The performace of the model on the test set is accessed using MSE and RMSE. This ensures the model works effectively on fresh data.\n"
   ]
  },
  {
   "cell_type": "code",
   "execution_count": 39,
   "id": "31f8fd55-09f6-4d18-a821-5f7e61d05bb3",
   "metadata": {},
   "outputs": [],
   "source": [
    "train_pred = lr_model.transform(train_data)\n",
    "test_pred = lr_model.transform(test_data)"
   ]
  },
  {
   "cell_type": "markdown",
   "id": "915122e7-9f60-425c-a59b-a46e8787ff10",
   "metadata": {},
   "source": [
    "# Evaluate performance on train data"
   ]
  },
  {
   "cell_type": "markdown",
   "id": "3614879b-6503-4db6-861a-81ccdbf53612",
   "metadata": {},
   "source": [
    "The performance of a machine learning model should be assessed using several indicators.\n",
    "\n",
    "MAE is the average absolute difference between expected and actual values. It works well when the target variable and independent variables are linearly related. It penalises significant mistakes less than the other two measures.\n",
    "\n",
    "RMSE is the standard deviation of errors between expected and true values. It penalises significant mistakes more than MAE, making it an excellent measure for avoiding them. Its units match the target variable, making it easier to read. \n",
    "\n",
    "MSE is RMSE without the square root. It is employed when i aim to punish significant mistakes more and when the target variable has a linear connection with the independent variables. So, to fully assess a linear regression model's performance, all three measures should be included."
   ]
  },
  {
   "cell_type": "code",
   "execution_count": 42,
   "id": "c53d7293-8ad0-47bf-9a37-5cc1c73fba66",
   "metadata": {},
   "outputs": [],
   "source": [
    "train_eval = RegressionEvaluator(predictionCol='prediction', labelCol='median_income', metricName='rmse')\n",
    "train_rmse = train_eval.evaluate(train_pred)\n",
    "train_eval = RegressionEvaluator(predictionCol='prediction', labelCol='median_income', metricName='mse')\n",
    "train_mse = train_eval.evaluate(train_pred)\n",
    "train_eval = RegressionEvaluator(predictionCol='prediction', labelCol='median_income', metricName='mae')\n",
    "train_mae = train_eval.evaluate(train_pred)"
   ]
  },
  {
   "cell_type": "markdown",
   "id": "50370272-75ad-43d4-9bdd-f6f2ae092fe5",
   "metadata": {},
   "source": [
    "# Evaluate performance on test data"
   ]
  },
  {
   "cell_type": "code",
   "execution_count": 43,
   "id": "9dd3d542-d71d-415c-892b-ccd9aa2b27fc",
   "metadata": {},
   "outputs": [],
   "source": [
    "test_eval = RegressionEvaluator(predictionCol='prediction', labelCol='median_income', metricName='rmse')\n",
    "test_rmse = test_eval.evaluate(test_pred)\n",
    "test_eval = RegressionEvaluator(predictionCol='prediction', labelCol='median_income', metricName='mse')\n",
    "test_mse = test_eval.evaluate(test_pred)\n",
    "test_eval = RegressionEvaluator(predictionCol='prediction', labelCol='median_income', metricName='mae')\n",
    "test_mae = test_eval.evaluate(test_pred)"
   ]
  },
  {
   "cell_type": "markdown",
   "id": "64b853f7-2b64-4712-962c-74c9e9a77fe8",
   "metadata": {},
   "source": [
    "# Print evaluation metrics\n",
    "\n",
    "\n"
   ]
  },
  {
   "cell_type": "code",
   "execution_count": 44,
   "id": "49a1e609-7f39-4238-82f7-0f52c566f7c7",
   "metadata": {},
   "outputs": [
    {
     "name": "stdout",
     "output_type": "stream",
     "text": [
      "Train RMSE: 1.0984728878905285\n",
      "Train MSE: 1.2066426854305579\n",
      "Train MAE: 0.7564216054134224\n",
      "Test RMSE: 1.131298539168965\n",
      "Test MSE: 1.2798363847258343\n",
      "Test MAE: 0.7548260639465334\n"
     ]
    }
   ],
   "source": [
    "print(\"Train RMSE: {}\".format(train_rmse))\n",
    "print(\"Train MSE: {}\".format(train_mse))\n",
    "print(\"Train MAE: {}\".format(train_mae))\n",
    "print(\"Test RMSE: {}\".format(test_rmse))\n",
    "print(\"Test MSE: {}\".format(test_mse))\n",
    "print(\"Test MAE: {}\".format(test_mae))"
   ]
  },
  {
   "cell_type": "markdown",
   "id": "fd967248-b24d-415c-a678-422aaebe4299",
   "metadata": {},
   "source": [
    "# Create a DataFrame with the predicted and actual values"
   ]
  },
  {
   "cell_type": "markdown",
   "id": "4031f54c-df3a-40f6-a743-56a7bc0c34f1",
   "metadata": {},
   "source": [
    "The first line generates a predictions DataFrame with two columns, \"actual\" and \"prediction\". \"Actual\" and \"Prediction\" columns show the median income from the test set. Show() displays the predicted vs. real numbers. Matplotlib builds a scatter plot of predicted vs. actual values. \n",
    "\n",
    "The x-axis shows actual values and the y-axis predicted values. To view overlapping points, the alpha option sets point transparency to 0.5. Title, xlabel, and ylabel establish plot labels and titles. Show(), shows the plot. Additionally, Sorting and aligning data is essential for creating a table and plot of predicted vs. actual values. \n",
    "\n",
    "To compare accurately, the predicted and actual values should be arranged by the same criterion (e.g., ascending actual values). To evaluate model performance, I used relevant metrics such mean absolute error (MAE), root mean squared error (RMSE), and mean squared error (MSE). These measurements may reveal the model's accuracy and precision and lead model upgrades."
   ]
  },
  {
   "cell_type": "code",
   "execution_count": 46,
   "id": "5d964217-5d3a-4004-bafe-6fb55e7a8b71",
   "metadata": {},
   "outputs": [],
   "source": [
    "predictions = lr_model.transform(test_data)\n",
    "predictions = predictions.select(col(\"median_income\").alias(\"actual\"), col(\"prediction\"))\n"
   ]
  },
  {
   "cell_type": "markdown",
   "id": "ed3603c4-74c5-4186-bea5-6c27f725b502",
   "metadata": {},
   "source": [
    "# Show the table of predicted vs actual values"
   ]
  },
  {
   "cell_type": "code",
   "execution_count": 48,
   "id": "549b85b4-cf5e-4070-a7de-9fa4aa33b2d0",
   "metadata": {},
   "outputs": [
    {
     "name": "stdout",
     "output_type": "stream",
     "text": [
      "+-------+------------------+\n",
      "| actual|        prediction|\n",
      "+-------+------------------+\n",
      "| 5.2636|  4.71665229842149|\n",
      "|15.0001| 6.169037289500239|\n",
      "| 3.1042| 4.239659579399781|\n",
      "| 8.4411| 7.822961366317466|\n",
      "| 5.0862| 4.271084485158245|\n",
      "|  2.875| 4.221002616517469|\n",
      "| 1.9667| 6.640989572913137|\n",
      "| 5.1365|  4.05649861582421|\n",
      "|    3.0|3.7503599355511748|\n",
      "| 6.9343| 6.017112198173143|\n",
      "|   5.75| 5.447305662611283|\n",
      "| 4.5577| 4.339421807161461|\n",
      "| 4.2361|4.0930762063502435|\n",
      "| 5.9934| 5.054035887719671|\n",
      "| 2.9591|  4.13243656175983|\n",
      "| 4.2132| 3.666880469646312|\n",
      "| 3.9052| 3.714045271079404|\n",
      "| 5.0346| 5.570568669376579|\n",
      "| 6.6916| 7.023113807554543|\n",
      "| 3.1319|3.2963892049839414|\n",
      "+-------+------------------+\n",
      "only showing top 20 rows\n",
      "\n"
     ]
    }
   ],
   "source": [
    "predictions.show()"
   ]
  },
  {
   "cell_type": "markdown",
   "id": "f8ff5e57-0826-4d3b-a9ef-5c429d6e36c8",
   "metadata": {},
   "source": [
    "# Plot predicted vs actual values"
   ]
  },
  {
   "cell_type": "code",
   "execution_count": 49,
   "id": "4c006422-25a1-4557-8ade-4165c72de661",
   "metadata": {},
   "outputs": [
    {
     "data": {
      "image/png": "[encoded data removed]",
      "text/plain": [
       "<Figure size 640x480 with 1 Axes>"
      ]
     },
     "metadata": {},
     "output_type": "display_data"
    }
   ],
   "source": [
    "plt.scatter(predictions.select(\"actual\").collect(), predictions.select(\"prediction\").collect(), alpha=0.5)\n",
    "plt.xlabel(\"Actual\")\n",
    "plt.ylabel(\"Predicted\")\n",
    "plt.title(\"Predicted vs Actual\")\n",
    "plt.show()"
   ]
  },
  {
   "cell_type": "markdown",
   "id": "d2c39e95-a28c-4f45-9d42-a9ce03777a31",
   "metadata": {},
   "source": [
    "# Data Analysis & Results"
   ]
  },
  {
   "cell_type": "markdown",
   "id": "5ffc759e-9393-4927-aae6-0e1cade15bac",
   "metadata": {},
   "source": [
    "The output of a distributed linear regression study on a dataset usually consists of the following elements :[Model Coefficients, Intercept, Evaluation Metrics, Prediction Results, Visualization]\n",
    "\n",
    "\n",
    "Model Coefficients: These are the model's coefficients, or how much of an effect each feature has. These numbers reflect how much the projected value would shift if the related characteristic were to shift by one unit, while all other features were held constant.\n",
    "\n",
    "The model coefficient for ['housing_median_age', 'total_rooms', 'total_bedrooms', 'population', 'households', 'median_house_value'] after my analysis are : \n",
    "\n",
    "Model coefficients: [-0.022292971136705437,0.0009098796458029476,-0.0052244230500916875,7.629860908849765e-05,0.0002817090412391746,1.0201466799620867e-05]\n",
    "The coefficient value represents the change in the predicted median income for a one-unit increase in the corresponding feature while holding all other features constant. For example, a one-unit increase in 'total_rooms' feature will result in an increase in the predicted median income by 0.0009098796458029476 units, assuming all other features are kept constant. A negative coefficient value indicates an inverse relationship between the feature and the target variable, meaning an increase in the feature leads to a decrease in the predicted median income, while a positive coefficient indicates a direct relationship between the feature and the target variable. The magnitude of the coefficient value reflects the strength of the relationship between the feature and the target variable. Overall, the model coefficients obtained suggest that the features have relatively small effects on the predicted median income, with most of them being close to zero.\n",
    "\n",
    "The intercept term in linear regression represents the predicted value of the dependent variable (in this case, median_income) when all independent variables (housing_median_age, total_rooms, total_bedrooms, population, households, median_house_value) are equal to zero. In this case, the intercept value of 2.5611795371492256 means that the model predicts that the median income value would be 2.561 when all independent variables are zero. However, since it is impossible for all the independent variables to be zero, the intercept is mainly used as a baseline reference point for the model's predictions.\n",
    "\n",
    "\n",
    "Evaluation Metrics: For the train set, the RMSE, MSE, and MAE values are 1.098, 1.207, and 0.756, respectively. This means that on average, the model's predictions are about 1.098, 1.207, and 0.756 units away from the actual values for the train set.\n",
    "\n",
    "For the test set, the RMSE, MSE, and MAE values are 1.131, 1.280, and 0.755, respectively. This means that on average, the model's predictions are about 1.131, 1.280, and 0.755 units away from the actual values for the test set.\n",
    "\n",
    "These values are important in determining the performance of the linear regression model. A good model should have low values for all three metrics on both the train and test sets. In this case, the values are relatively close between the train and test sets, indicating that the model is not overfitting the training data. Furthermore, the performance of the model is reasonable, as the MAE and RMSE values are relatively low, indicating that the model is accurately predicting the median income.\n",
    "\n",
    "Prediction Results: The Prediction Results table shows the actual values of the target variable (the first column labeled \"actual\") and the corresponding predicted values (the second column labeled \"prediction\") using the trained linear regression model. Each row represents a data point from the test set, where the actual value of the target variable is compared to the predicted value by the model.\n",
    "\n",
    "For instance, the first row shows that the actual value of the target variable is 5.2636, while the model predicted a value of 4.7167. The second row shows that the actual value is 15.0001, while the model predicted a value of 6.1690. The third row shows that the actual value is 3.1042, while the model predicted a value of 4.2397, and so on.\n",
    "These values can be used to evaluate the performance of the model on the test set, by computing various error metrics such as mean absolute error, mean squared error, and root mean squared error.\n",
    "\n",
    "\n",
    "Visualization: Plots, is used to explore and understand the data and the results of the analysis. \"Predicted vs Actual\" is plotted. The result of the graph show that the Predicted values have a positive relationship with Actual value. i.e. positive correlation. "
   ]
  },
  {
   "cell_type": "code",
   "execution_count": null,
   "id": "28ec6b1e-fbb0-4706-b943-0a83ad56aceb",
   "metadata": {},
   "outputs": [],
   "source": []
  }
 ],
 "metadata": {
  "kernelspec": {
   "display_name": "Python 3 (ipykernel)",
   "language": "python",
   "name": "python3"
  },
  "language_info": {
   "codemirror_mode": {
    "name": "ipython",
    "version": 3
   },
   "file_extension": ".py",
   "mimetype": "text/x-python",
   "name": "python",
   "nbconvert_exporter": "python",
   "pygments_lexer": "ipython3",
   "version": "3.10.10"
  }
 },
 "nbformat": 4,
 "nbformat_minor": 5
}
